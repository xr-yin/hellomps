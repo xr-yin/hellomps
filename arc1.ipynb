{
 "cells": [
  {
   "cell_type": "code",
   "execution_count": 8,
   "id": "eb282f84",
   "metadata": {},
   "outputs": [],
   "source": [
    "import numpy as np\n",
    "import sys\n",
    "from mps import MPS"
   ]
  },
  {
   "cell_type": "code",
   "execution_count": 3,
   "id": "6db9e6ee",
   "metadata": {},
   "outputs": [
    {
     "name": "stdout",
     "output_type": "stream",
     "text": [
      "[1 2 3 4]\n"
     ]
    }
   ],
   "source": [
    "sys.executable\n",
    "psi = np.array([1,2,3,4])\n",
    "print(psi.reshape(2,2).reshape(-1))"
   ]
  },
  {
   "cell_type": "code",
   "execution_count": 4,
   "id": "259609d4",
   "metadata": {},
   "outputs": [
    {
     "data": {
      "text/plain": [
       "(27,)"
      ]
     },
     "execution_count": 4,
     "metadata": {},
     "output_type": "execute_result"
    }
   ],
   "source": [
    "# initial state z=(1, 0, 0)\n",
    "n0 = np.array([1,0,0])\n",
    "n1 = np.array([0,1,0])\n",
    "n2 = np.array([0,0,1])\n",
    "\n",
    "#psi = np.kron(n1,np.kron(n0,n0))\n",
    "#psi.shape"
   ]
  },
  {
   "cell_type": "code",
   "execution_count": 9,
   "id": "7351976b",
   "metadata": {},
   "outputs": [
    {
     "data": {
      "text/plain": [
       "[array([[[1., 0., 0.]]]), array([[[1., 0., 0.]]]), array([[[1., 0., 0.]]])]"
      ]
     },
     "execution_count": 9,
     "metadata": {},
     "output_type": "execute_result"
    }
   ],
   "source": [
    "N = 3\n",
    "A0 = np.zeros([1,1,3])\n",
    "A0[:,:,0] = 1.\n",
    "A1 = np.zeros([1,1,3])\n",
    "As = [A0, A1, A1]\n",
    "psi = MPS(As)\n",
    "psi.As"
   ]
  }
 ],
 "metadata": {
  "kernelspec": {
   "display_name": ".venv",
   "language": "python",
   "name": "python3"
  },
  "language_info": {
   "codemirror_mode": {
    "name": "ipython",
    "version": 3
   },
   "file_extension": ".py",
   "mimetype": "text/x-python",
   "name": "python",
   "nbconvert_exporter": "python",
   "pygments_lexer": "ipython3",
   "version": "3.10.6"
  }
 },
 "nbformat": 4,
 "nbformat_minor": 5
}
