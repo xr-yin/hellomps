{
 "cells": [
  {
   "cell_type": "code",
   "execution_count": null,
   "id": "eb282f84",
   "metadata": {},
   "outputs": [],
   "source": [
    "import numpy as np\n",
    "import sys"
   ]
  },
  {
   "cell_type": "code",
   "execution_count": null,
   "id": "80075d1f",
   "metadata": {},
   "outputs": [],
   "source": [
    "'''\n",
    "--------------device parameters in units of 2*pi---------------\n",
    "\n",
    "             qubit0----qubit1----qubit2\n",
    "                    g0        g1\n",
    "'''\n",
    "\n",
    "# qubit frequencies: E_1 - E_0\n",
    "omega = [5.100, 8.100, 6.200]\n",
    "\n",
    "# anharmonicity: (E_2 - E_1)-(E_1 - E_0)\n",
    "alpha = [-0.310, -0.235, -0.285]/2\n",
    "\n",
    "# effective coupling strength\n",
    "lg = [0.146, 0.164]"
   ]
  },
  {
   "cell_type": "code",
   "execution_count": null,
   "id": "7d2f4560",
   "metadata": {},
   "outputs": [],
   "source": [
    "def eff_ham_mpo(omega, alpha, lg):\n",
    "    '''\n",
    "    effective model Hamiltonian for architecture I -- Eq.31\n",
    "    '''\n",
    "    # bosonic creation operator\n",
    "    bt = np.diag([1., np.sqrt(2)], k=-1)\n",
    "    # bosonic creation operator\n",
    "    bn = bt.transpose()\n",
    "    # number operator\n",
    "    n = np.kron(bt, bn)\n",
    "    # charge operator\n",
    "    q = bt + bn\n",
    "    # identity\n",
    "    I = np.eye(3)\n",
    "    # null matrix\n",
    "    O = np.zeros((3,3))\n",
    "    \n",
    "    onsite = [w*n + a*n@(a-I) for w,a in zip(omega, alpha)]\n",
    "    inter = [g*q for g in lg]\n",
    "\n",
    "    W0 = np.array([[onsite[0], inter[0], I]])\n",
    "    W1 = np.array([\n",
    "        [I, O, O],\n",
    "        [q, O, O],\n",
    "        [onsite[1], inter[q], I]\n",
    "    ])\n",
    "    W2 = np.array([\n",
    "        [I],\n",
    "        [q],\n",
    "        [onsite[2]]\n",
    "    ])\n",
    "    \n",
    "    return W1, W2, W3"
   ]
  },
  {
   "cell_type": "code",
   "execution_count": null,
   "id": "fe0cb1da",
   "metadata": {},
   "outputs": [],
   "source": [
    "# initial state z=(1, 0, 0)\n",
    "\n",
    "\n",
    "# maximally allowed virtual bond dimensions\n",
    "D = [4,4]\n",
    "psi = ptn.MPS(mpoH.qd, [Di*[0] for Di in D], fill='random')\n",
    "# effectively clamp virtual bond dimension of initial state\n",
    "Dinit = 8\n",
    "for i in range(L):\n",
    "    psi.A[i][:, Dinit:, :] = 0\n",
    "    psi.A[i][:, :, Dinit:] = 0\n",
    "psi.orthonormalize(mode='left')\n",
    "\n",
    "# time step can have both real and imaginary parts;\n",
    "# for real time evolution use purely imaginary dt!\n",
    "dt = 0.01 - 0.05j\n",
    "numsteps = 100\n",
    "\n",
    "# run TDVP time evolution\n",
    "ptn.integrate_local_singlesite(mpoH, psi, dt, numsteps, numiter_lanczos=5)\n",
    "# psi now stores the (approximated) time-evolved state exp(-dt*numsteps H) psi"
   ]
  }
 ],
 "metadata": {
  "kernelspec": {
   "display_name": ".venv",
   "language": "python",
   "name": "python3"
  },
  "language_info": {
   "codemirror_mode": {
    "name": "ipython",
    "version": 3
   },
   "file_extension": ".py",
   "mimetype": "text/x-python",
   "name": "python",
   "nbconvert_exporter": "python",
   "pygments_lexer": "ipython3",
   "version": "3.10.6"
  }
 },
 "nbformat": 4,
 "nbformat_minor": 5
}
